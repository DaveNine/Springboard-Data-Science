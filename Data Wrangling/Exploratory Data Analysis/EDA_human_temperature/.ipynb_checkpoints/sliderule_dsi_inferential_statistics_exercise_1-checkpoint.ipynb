{
 "cells": [
  {
   "cell_type": "markdown",
   "metadata": {},
   "source": [
    "# What is the True Normal Human Body Temperature? \n",
    "\n",
    "#### Background\n",
    "\n",
    "The mean normal body temperature was held to be 37$^{\\circ}$C or 98.6$^{\\circ}$F for more than 120 years since it was first conceptualized and reported by Carl Wunderlich in a famous 1868 book. But, is this value statistically correct?"
   ]
  },
  {
   "cell_type": "markdown",
   "metadata": {},
   "source": [
    "<h3>Exercises</h3>\n",
    "\n",
    "<p>In this exercise, you will analyze a dataset of human body temperatures and employ the concepts of hypothesis testing, confidence intervals, and statistical significance.</p>\n",
    "\n",
    "<p>Answer the following questions <b>in this notebook below and submit to your Github account</b>.</p> \n",
    "\n",
    "<ol>\n",
    "<li>  Is the distribution of body temperatures normal? \n",
    "    <ul>\n",
    "    <li> Although this is not a requirement for the Central Limit Theorem to hold (read the introduction on Wikipedia's page about the CLT carefully: https://en.wikipedia.org/wiki/Central_limit_theorem), it gives us some peace of mind that the population may also be normally distributed if we assume that this sample is representative of the population.\n",
    "    <li> Think about the way you're going to check for the normality of the distribution. Graphical methods are usually used first, but there are also other ways: https://en.wikipedia.org/wiki/Normality_test\n",
    "    </ul>\n",
    "<li>  Is the sample size large? Are the observations independent?\n",
    "    <ul>\n",
    "    <li> Remember that this is a condition for the Central Limit Theorem, and hence the statistical tests we are using, to apply.\n",
    "    </ul>\n",
    "<li>  Is the true population mean really 98.6 degrees F?\n",
    "    <ul>\n",
    "    <li> First, try a bootstrap hypothesis test.\n",
    "    <li> Now, let's try frequentist statistical testing. Would you use a one-sample or two-sample test? Why?\n",
    "    <li> In this situation, is it appropriate to use the $t$ or $z$ statistic? \n",
    "    <li> Now try using the other test. How is the result be different? Why?\n",
    "    </ul>\n",
    "<li>  Draw a small sample of size 10 from the data and repeat both frequentist tests. \n",
    "    <ul>\n",
    "    <li> Which one is the correct one to use? \n",
    "    <li> What do you notice? What does this tell you about the difference in application of the $t$ and $z$ statistic?\n",
    "    </ul>\n",
    "<li>  At what temperature should we consider someone's temperature to be \"abnormal\"?\n",
    "    <ul>\n",
    "    <li> As in the previous example, try calculating everything using the boostrap approach, as well as the frequentist approach.\n",
    "    <li> Start by computing the margin of error and confidence interval. When calculating the confidence interval, keep in mind that you should use the appropriate formula for one draw, and not N draws.\n",
    "    </ul>\n",
    "<li>  Is there a significant difference between males and females in normal temperature?\n",
    "    <ul>\n",
    "    <li> What testing approach did you use and why?\n",
    "    <li> Write a story with your conclusion in the context of the original problem.\n",
    "    </ul>\n",
    "</ol>\n",
    "\n",
    "You can include written notes in notebook cells using Markdown: \n",
    "   - In the control panel at the top, choose Cell > Cell Type > Markdown\n",
    "   - Markdown syntax: http://nestacms.com/docs/creating-content/markdown-cheat-sheet\n",
    "\n",
    "#### Resources\n",
    "\n",
    "+ Information and data sources: http://www.amstat.org/publications/jse/datasets/normtemp.txt, http://www.amstat.org/publications/jse/jse_data_archive.htm\n",
    "+ Markdown syntax: http://nestacms.com/docs/creating-content/markdown-cheat-sheet\n",
    "\n",
    "****"
   ]
  },
  {
   "cell_type": "code",
   "execution_count": 7,
   "metadata": {},
   "outputs": [
    {
     "data": {
      "text/html": [
       "<div>\n",
       "<style scoped>\n",
       "    .dataframe tbody tr th:only-of-type {\n",
       "        vertical-align: middle;\n",
       "    }\n",
       "\n",
       "    .dataframe tbody tr th {\n",
       "        vertical-align: top;\n",
       "    }\n",
       "\n",
       "    .dataframe thead th {\n",
       "        text-align: right;\n",
       "    }\n",
       "</style>\n",
       "<table border=\"1\" class=\"dataframe\">\n",
       "  <thead>\n",
       "    <tr style=\"text-align: right;\">\n",
       "      <th></th>\n",
       "      <th>temperature</th>\n",
       "      <th>gender</th>\n",
       "      <th>heart_rate</th>\n",
       "    </tr>\n",
       "  </thead>\n",
       "  <tbody>\n",
       "    <tr>\n",
       "      <th>0</th>\n",
       "      <td>99.3</td>\n",
       "      <td>F</td>\n",
       "      <td>68.0</td>\n",
       "    </tr>\n",
       "    <tr>\n",
       "      <th>1</th>\n",
       "      <td>98.4</td>\n",
       "      <td>F</td>\n",
       "      <td>81.0</td>\n",
       "    </tr>\n",
       "    <tr>\n",
       "      <th>2</th>\n",
       "      <td>97.8</td>\n",
       "      <td>M</td>\n",
       "      <td>73.0</td>\n",
       "    </tr>\n",
       "    <tr>\n",
       "      <th>3</th>\n",
       "      <td>99.2</td>\n",
       "      <td>F</td>\n",
       "      <td>66.0</td>\n",
       "    </tr>\n",
       "    <tr>\n",
       "      <th>4</th>\n",
       "      <td>98.0</td>\n",
       "      <td>F</td>\n",
       "      <td>73.0</td>\n",
       "    </tr>\n",
       "  </tbody>\n",
       "</table>\n",
       "</div>"
      ],
      "text/plain": [
       "   temperature gender  heart_rate\n",
       "0         99.3      F        68.0\n",
       "1         98.4      F        81.0\n",
       "2         97.8      M        73.0\n",
       "3         99.2      F        66.0\n",
       "4         98.0      F        73.0"
      ]
     },
     "execution_count": 7,
     "metadata": {},
     "output_type": "execute_result"
    }
   ],
   "source": [
    "import pandas as pd\n",
    "import numpy as np\n",
    "import matplotlib.pyplot as plt\n",
    "import seaborn as sns\n",
    "from scipy import stats\n",
    "\n",
    "df = pd.read_csv('data/human_body_temperature.csv')\n",
    "#First, just to see what the data looks like..\n",
    "df.head()"
   ]
  },
  {
   "cell_type": "code",
   "execution_count": 6,
   "metadata": {},
   "outputs": [
    {
     "data": {
      "image/png": "[encoded data removed]",
      "text/plain": [
       "<matplotlib.figure.Figure at 0x1a3a0508160>"
      ]
     },
     "metadata": {},
     "output_type": "display_data"
    }
   ],
   "source": [
    "#From the histogram, it's approximately normal.\n",
    "sns.distplot(df.temperature)\n",
    "plt.show()"
   ]
  },
  {
   "cell_type": "code",
   "execution_count": 8,
   "metadata": {},
   "outputs": [
    {
     "data": {
      "image/png": "[encoded data removed]",
      "text/plain": [
       "<matplotlib.figure.Figure at 0x1a3a04fee48>"
      ]
     },
     "metadata": {},
     "output_type": "display_data"
    }
   ],
   "source": [
    "#The QQ-plot also approximately follows the line with no clear pattern, \n",
    "#which supports the evidence that temp comes from a normal distribution.\n",
    "stats.probplot(df.temperature, plot=plt)\n",
    "plt.show()"
   ]
  },
  {
   "cell_type": "code",
   "execution_count": 9,
   "metadata": {},
   "outputs": [
    {
     "name": "stdout",
     "output_type": "stream",
     "text": [
      "Since 0.2587 is a big p-value, we cannot reject the hypothesis that the data is normally distributed.\n",
      "Since 0.2332 is a big p-value, we cannot reject the hypothesis that the data is normally distributed.\n"
     ]
    }
   ],
   "source": [
    "# This is a hypothesis test with the null test being the data is normally \n",
    "# distributed. It takes into consideration kurtosis and skew.\n",
    "t_stat, pval = stats.normaltest(df.temperature)\n",
    "print(\"Since {0:.4f} is a big p-value, we cannot reject the hypothesis that \"\n",
    "      \"the data is normally distributed.\".format(pval))\n",
    "\n",
    "# For added evidence, this is the Shapiro-Wilk test.\n",
    "t_stat, pval = stats.shapiro(df.temperature)\n",
    "print(\"Since {0:.4f} is a big p-value, we cannot reject the hypothesis that \"\n",
    "      \"the data is normally distributed.\".format(pval))"
   ]
  },
  {
   "cell_type": "code",
   "execution_count": 10,
   "metadata": {},
   "outputs": [
    {
     "name": "stdout",
     "output_type": "stream",
     "text": [
      "The length of the data is 130.\n"
     ]
    }
   ],
   "source": [
    "# In order to use the CLT, we need at least 30 samples. We've no reason to think\n",
    "# the data was not independently sampled, temperature data doesn't depend on \n",
    "# itself in any way.\n",
    "print(\"The length of the data is \" + str(len(df.temperature)) + \".\")"
   ]
  },
  {
   "cell_type": "code",
   "execution_count": 34,
   "metadata": {},
   "outputs": [],
   "source": [
    "# First we make a ton of replications\n",
    "n = 1000\n",
    "reps =  np.array([np.mean(np.random.choice(df.temperature, len(df.temperature))) for _ in range(n)]).flatten()"
   ]
  },
  {
   "cell_type": "code",
   "execution_count": 35,
   "metadata": {},
   "outputs": [
    {
     "name": "stdout",
     "output_type": "stream",
     "text": [
      "With 95% confidence, the mean temperature is between 98.12 and 98.38.\n",
      "With 90% confidence, the mean temperature is between 98.14 and 98.35.\n"
     ]
    }
   ],
   "source": [
    "# Now, one thing we can do is compute a confidence interval for the means with alpha = 0.05 for a two way test.\n",
    "conf_int  = np.percentile(reps,[2.5, 97.5])\n",
    "print('With 95% confidence, the mean temperature is between {0:.2f} and {1:.2f}.'.format(conf_int[0], conf_int[1]))\n",
    "# Compute a confidence interval for the means with alpha = 0.05 for a one way test.\n",
    "conf_int  = np.percentile(reps,[5, 95])\n",
    "print('With 90% confidence, the mean temperature is between {0:.2f} and {1:.2f}.'.format(conf_int[0], conf_int[1]))"
   ]
  },
  {
   "cell_type": "markdown",
   "metadata": {},
   "source": [
    "A two way test here would signify that the mean temperature is simply not equal to 98.6. This hypothesis is rejected since 98.6 is significantly high.\n",
    "\n",
    "Here, a one way test shows that there's sufficicient evidence to reject the null again. This hypothesis is rejected since 98.6 is significantly high, and the alternative hypothesis is that the true mean temperature is lower than 98.6."
   ]
  },
  {
   "cell_type": "code",
   "execution_count": 13,
   "metadata": {},
   "outputs": [
    {
     "name": "stdout",
     "output_type": "stream",
     "text": [
      "With a test statistic of 5.48 and p-value of 0.0000001, we can be very certain to reject the null hypothesis.\n"
     ]
    }
   ],
   "source": [
    "# For the frequentist method, we actually don't know the true standard deviation for the original data, for this reason we use\n",
    "# the student distribution. At n>30, it is identical to use the student t distribution or normal distribution for the test.\n",
    "t = (98.6 - np.mean(df.temperature)) / (np.std(df.temperature)/np.sqrt(len(df.temperature)))\n",
    "#The p-value is computed as \n",
    "p_val = 1 - stats.t.cdf(t,len(df.temperature) - 1)\n",
    "print(\"With a test statistic of {0:.2f} and p-value of {1:.7f}, we can be very certain to reject the null hypothesis.\".format(t,p_val))"
   ]
  },
  {
   "cell_type": "code",
   "execution_count": 17,
   "metadata": {
    "scrolled": true
   },
   "outputs": [
    {
     "name": "stdout",
     "output_type": "stream",
     "text": [
      "With a test statistic of 5.48 and p-value of 0.0000001, we can be very certain to reject the null hypothesis.\n"
     ]
    }
   ],
   "source": [
    "#To demonstrate the same result with the z statistic.\n",
    "z = (98.6 - np.mean(df.temperature)) / (np.std(df.temperature)/np.sqrt(len(df.temperature)))\n",
    "# The p-val is\n",
    "pval = 1 - stats.norm.cdf(z,0,1)\n",
    "print(\"With a test statistic of {0:.2f} and p-value of {1:.7f}, we can be very certain to reject the null hypothesis.\".format(t,p_val))\n",
    "# Notice that the p-values are the same."
   ]
  },
  {
   "cell_type": "code",
   "execution_count": 20,
   "metadata": {},
   "outputs": [
    {
     "name": "stdout",
     "output_type": "stream",
     "text": [
      "With a test statistic of 0.31 and p-value of 0.3827474, we can be very certain to reject the null hypothesis.\n"
     ]
    }
   ],
   "source": [
    "#Now we draw a sample size of 10 from the dataset, and repeat the tests. Because the size is 10, we must use the t-dist.\n",
    "sample = np.random.choice(df.temperature, 10)\n",
    "t = (98.6 - np.mean(sample)) / (np.std(sample)/np.sqrt(len(sample)))\n",
    "#The p-value is computed as \n",
    "p_val = 1 - stats.t.cdf(t,len(sample) - 1)\n",
    "print(p_val)\n",
    "#Notice that the p-values is pretty big at this sample size."
   ]
  },
  {
   "cell_type": "code",
   "execution_count": 46,
   "metadata": {},
   "outputs": [
    {
     "name": "stdout",
     "output_type": "stream",
     "text": [
      "With 99% confidence, the mean temperature is between 98.09 and 98.40.\n",
      "99.97 is the suggested abnormally high temperature.\n",
      "96.53 is the suggested abnormally low temperature.\n"
     ]
    }
   ],
   "source": [
    "# A fever is defined to be any temperature above 100.4 F. However, it's not reasonable to compute this from the bootstrap\n",
    "# since the greatest value is 100.8, 100.4 would be in the 100th percentile and not likely at all. To compute something abnormal,\n",
    "# we can just look at perhaps the 99%th confidence interval to determine an abnormal temperature\n",
    "conf_int  = np.percentile(reps,[.5, 99.5])\n",
    "print('With 99% confidence, the mean temperature is between {0:.2f} and {1:.2f}.'.format(conf_int[0], conf_int[1]))\n",
    "#This result suggests that anything lower than 98 is abnormal and anything higher than 98.4 is abnormal. This isn't really a good\n",
    "# result. We can, however, compute it a different way. 2.355 is the t value that covers 99% of the t-dist.\n",
    "xHigh = np.mean(df.temperature) + np.std(df.temperature)*2.355\n",
    "xLow = np.mean(df.temperature) - np.std(df.temperature)*2.355\n",
    "print('{0:0.2f} is the suggested abnormally high temperature.'.format(xHigh))\n",
    "print('{0:0.2f} is the suggested abnormally low temperature.'.format(xLow))"
   ]
  },
  {
   "cell_type": "code",
   "execution_count": 78,
   "metadata": {},
   "outputs": [
    {
     "name": "stdout",
     "output_type": "stream",
     "text": [
      "With 95% confidence, the mean difference of temperature is between 0.03 and 0.54.\n",
      "The value we got from the original dataset was 0.29.\n"
     ]
    }
   ],
   "source": [
    "#In order to figure out if theres a difference in means between females and males, lets split them up first!\n",
    "male_temps = df['temperature'].loc[df['gender'] == 'M'].values\n",
    "female_temps = df['temperature'].loc[df['gender'] == 'F'].values\n",
    "#We can do the same thing with bootstrapping to create a confidence interval of difference of means. Then draw a conclusion.\n",
    "male_means = np.array([np.mean(np.random.choice(male_temps, len(male_temps))) for _ in range(n)]).flatten()\n",
    "female_means = np.array([np.mean(np.random.choice(female_temps, len(female_temps))) for _ in range(n)]).flatten()\n",
    "diff_of_means = female_means - male_means\n",
    "# Now, the confidence interval.\n",
    "conf_int  = np.percentile(diff_of_means,[2.5, 97.5])\n",
    "print('With 95% confidence, the mean difference of temperature is between {0:.2f} and {1:.2f}.'.format(conf_int[0], conf_int[1]))\n",
    "print('The value we got from the original dataset was {0:.02f}.'.format(np.mean(female_temps) - np.mean(male_temps)))\n",
    "#Since .29 is inside the confidence interval, we cannot reject the notion of the mean temperatures being different..as expected."
   ]
  },
  {
   "cell_type": "code",
   "execution_count": null,
   "metadata": {},
   "outputs": [],
   "source": []
  }
 ],
 "metadata": {
  "kernelspec": {
   "display_name": "Python 3",
   "language": "python",
   "name": "python3"
  },
  "language_info": {
   "codemirror_mode": {
    "name": "ipython",
    "version": 3
   },
   "file_extension": ".py",
   "mimetype": "text/x-python",
   "name": "python",
   "nbconvert_exporter": "python",
   "pygments_lexer": "ipython3",
   "version": "3.6.4"
  }
 },
 "nbformat": 4,
 "nbformat_minor": 1
}
